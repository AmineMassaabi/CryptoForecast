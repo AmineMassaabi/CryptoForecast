{
  "nbformat": 4,
  "nbformat_minor": 0,
  "metadata": {
    "colab": {
      "name": "Untitled0.ipynb",
      "provenance": [],
      "collapsed_sections": [],
      "authorship_tag": "ABX9TyNHwtk9YFSJpWVKnmzrAEwO",
      "include_colab_link": true
    },
    "kernelspec": {
      "name": "python3",
      "display_name": "Python 3"
    }
  },
  "cells": [
    {
      "cell_type": "markdown",
      "metadata": {
        "id": "view-in-github",
        "colab_type": "text"
      },
      "source": [
        "<a href=\"https://colab.research.google.com/github/AmineMassaabi/CryptoForecast/blob/master/Untitled0.ipynb\" target=\"_parent\"><img src=\"https://colab.research.google.com/assets/colab-badge.svg\" alt=\"Open In Colab\"/></a>"
      ]
    },
    {
      "cell_type": "code",
      "metadata": {
        "id": "3RgDHbV_tYMl",
        "colab_type": "code",
        "outputId": "503a1077-0d83-4cf4-9ab2-42b3721895fb",
        "colab": {
          "base_uri": "https://localhost:8080/",
          "height": 462
        }
      },
      "source": [
        "!pip install git+https://github.com/Binance-docs/Binance_Futures_python.git"
      ],
      "execution_count": 0,
      "outputs": [
        {
          "output_type": "stream",
          "text": [
            "Collecting git+https://github.com/Binance-docs/Binance_Futures_python.git\n",
            "  Cloning https://github.com/Binance-docs/Binance_Futures_python.git to /tmp/pip-req-build-yxqp122s\n",
            "  Running command git clone -q https://github.com/Binance-docs/Binance_Futures_python.git /tmp/pip-req-build-yxqp122s\n",
            "Requirement already satisfied: requests in /usr/local/lib/python3.6/dist-packages (from binance-futures==1.0.1) (2.23.0)\n",
            "Collecting apscheduler\n",
            "\u001b[?25l  Downloading https://files.pythonhosted.org/packages/f3/34/9ef20ed473c4fd2c3df54ef77a27ae3fc7500b16b192add4720cab8b2c09/APScheduler-3.6.3-py2.py3-none-any.whl (58kB)\n",
            "\u001b[K     |████████████████████████████████| 61kB 1.8MB/s \n",
            "\u001b[?25hCollecting websocket-client\n",
            "\u001b[?25l  Downloading https://files.pythonhosted.org/packages/4c/5f/f61b420143ed1c8dc69f9eaec5ff1ac36109d52c80de49d66e0c36c3dfdf/websocket_client-0.57.0-py2.py3-none-any.whl (200kB)\n",
            "\u001b[K     |████████████████████████████████| 204kB 5.3MB/s \n",
            "\u001b[?25hRequirement already satisfied: urllib3 in /usr/local/lib/python3.6/dist-packages (from binance-futures==1.0.1) (1.24.3)\n",
            "Requirement already satisfied: certifi>=2017.4.17 in /usr/local/lib/python3.6/dist-packages (from requests->binance-futures==1.0.1) (2020.4.5.1)\n",
            "Requirement already satisfied: idna<3,>=2.5 in /usr/local/lib/python3.6/dist-packages (from requests->binance-futures==1.0.1) (2.9)\n",
            "Requirement already satisfied: chardet<4,>=3.0.2 in /usr/local/lib/python3.6/dist-packages (from requests->binance-futures==1.0.1) (3.0.4)\n",
            "Requirement already satisfied: pytz in /usr/local/lib/python3.6/dist-packages (from apscheduler->binance-futures==1.0.1) (2018.9)\n",
            "Requirement already satisfied: tzlocal>=1.2 in /usr/local/lib/python3.6/dist-packages (from apscheduler->binance-futures==1.0.1) (1.5.1)\n",
            "Requirement already satisfied: six>=1.4.0 in /usr/local/lib/python3.6/dist-packages (from apscheduler->binance-futures==1.0.1) (1.12.0)\n",
            "Requirement already satisfied: setuptools>=0.7 in /usr/local/lib/python3.6/dist-packages (from apscheduler->binance-futures==1.0.1) (46.3.0)\n",
            "Building wheels for collected packages: binance-futures\n",
            "  Building wheel for binance-futures (setup.py) ... \u001b[?25l\u001b[?25hdone\n",
            "  Created wheel for binance-futures: filename=binance_futures-1.0.1-cp36-none-any.whl size=43246 sha256=75f6b38dfab68182cac6e19e9aa465fa5a96252fa450dffaa909ef343ecf0b84\n",
            "  Stored in directory: /tmp/pip-ephem-wheel-cache-pstzee6i/wheels/b5/c0/28/11b8fdf22cd04c53c2c475d1aeae722e1fa1101b0a9eccb7b5\n",
            "Successfully built binance-futures\n",
            "Installing collected packages: apscheduler, websocket-client, binance-futures\n",
            "Successfully installed apscheduler-3.6.3 binance-futures-1.0.1 websocket-client-0.57.0\n"
          ],
          "name": "stdout"
        }
      ]
    },
    {
      "cell_type": "code",
      "metadata": {
        "id": "kglyHVbkthQW",
        "colab_type": "code",
        "colab": {}
      },
      "source": [
        "import requests\n",
        "import json\n",
        "import pandas as pd\n",
        "from datetime import datetime\n",
        "import time\n",
        "import pymongo\n",
        "import threading\n",
        "import json\n",
        "from binance_f import RequestClient\n",
        "from binance_f.model import *\n",
        "from binance_f.constant.test import *\n",
        "from binance_f.base.printobject import *\n",
        "from IPython.display import clear_output\n",
        "\n",
        "request_client = RequestClient()"
      ],
      "execution_count": 0,
      "outputs": []
    },
    {
      "cell_type": "code",
      "metadata": {
        "id": "gYzUJTrMthVy",
        "colab_type": "code",
        "colab": {}
      },
      "source": [
        ""
      ],
      "execution_count": 0,
      "outputs": []
    },
    {
      "cell_type": "code",
      "metadata": {
        "id": "VEodRPaEnSOY",
        "colab_type": "code",
        "outputId": "53704908-0a48-495e-8159-f738a88fbf1b",
        "colab": {
          "base_uri": "https://localhost:8080/",
          "height": 54
        }
      },
      "source": [
        ""
      ],
      "execution_count": 0,
      "outputs": [
        {
          "output_type": "stream",
          "text": [
            "[{\"symbol\":\"BTCUSDT\",\"fundingTime\":1586995200000,\"fundingRate\":\"-0.00007017\"},{\"symbol\":\"BTCUSDT\",\"fundingTime\":1587024000000,\"fundingRate\":\"-0.00046001\"},{\"symbol\":\"BTCUSDT\",\"fundingTime\":1587052800000,\"fundingRate\":\"0.00006364\"},{\"symbol\":\"BTCUSDT\",\"fundingTime\":1587081600000,\"fundingRate\":\"0.00005926\"},{\"symbol\":\"BTCUSDT\",\"fundingTime\":1587110400000,\"fundingRate\":\"0.00003345\"},{\"symbol\":\"BTCUSDT\",\"fundingTime\":1587139200000,\"fundingRate\":\"-0.00006771\"},{\"symbol\":\"BTCUSDT\",\"fundingTime\":1587168000000,\"fundingRate\":\"-0.00003132\"},{\"symbol\":\"BTCUSDT\",\"fundingTime\":1587196800000,\"fundingRate\":\"-0.00017145\"},{\"symbol\":\"BTCUSDT\",\"fundingTime\":1587225600000,\"fundingRate\":\"-0.00019642\"},{\"symbol\":\"BTCUSDT\",\"fundingTime\":1587254400000,\"fundingRate\":\"-0.00019142\"},{\"symbol\":\"BTCUSDT\",\"fundingTime\":1587283200000,\"fundingRate\":\"-0.00005966\"},{\"symbol\":\"BTCUSDT\",\"fundingTime\":1587312000000,\"fundingRate\":\"0.00008514\"},{\"symbol\":\"BTCUSDT\",\"fundingTime\":1587340800000,\"fundingRate\":\"-0.00001310\"},{\"symbol\":\"BTCUSDT\",\"fundingTime\":1587369600000,\"fundingRate\":\"-0.00001874\"},{\"symbol\":\"BTCUSDT\",\"fundingTime\":1587398400000,\"fundingRate\":\"-0.00005762\"},{\"symbol\":\"BTCUSDT\",\"fundingTime\":1587427200000,\"fundingRate\":\"-0.00009180\"},{\"symbol\":\"BTCUSDT\",\"fundingTime\":1587456000001,\"fundingRate\":\"-0.00007539\"},{\"symbol\":\"BTCUSDT\",\"fundingTime\":1587484800000,\"fundingRate\":\"0.00010000\"},{\"symbol\":\"BTCUSDT\",\"fundingTime\":1587513600001,\"fundingRate\":\"-0.00002663\"},{\"symbol\":\"BTCUSDT\",\"fundingTime\":1587542400000,\"fundingRate\":\"-0.00011402\"},{\"symbol\":\"BTCUSDT\",\"fundingTime\":1587571200000,\"fundingRate\":\"-0.00031244\"},{\"symbol\":\"BTCUSDT\",\"fundingTime\":1587600000000,\"fundingRate\":\"-0.00022340\"},{\"symbol\":\"BTCUSDT\",\"fundingTime\":1587628800001,\"fundingRate\":\"-0.00015491\"},{\"symbol\":\"BTCUSDT\",\"fundingTime\":1587657600000,\"fundingRate\":\"0.00010000\"},{\"symbol\":\"BTCUSDT\",\"fundingTime\":1587686400000,\"fundingRate\":\"0.00010000\"},{\"symbol\":\"BTCUSDT\",\"fundingTime\":1587715200000,\"fundingRate\":\"0.00010000\"},{\"symbol\":\"BTCUSDT\",\"fundingTime\":1587744000000,\"fundingRate\":\"0.00010000\"},{\"symbol\":\"BTCUSDT\",\"fundingTime\":1587772800003,\"fundingRate\":\"0.00010000\"},{\"symbol\":\"BTCUSDT\",\"fundingTime\":1587801600000,\"fundingRate\":\"0.00010000\"},{\"symbol\":\"BTCUSDT\",\"fundingTime\":1587830400000,\"fundingRate\":\"0.00010000\"},{\"symbol\":\"BTCUSDT\",\"fundingTime\":1587859200000,\"fundingRate\":\"0.00010000\"},{\"symbol\":\"BTCUSDT\",\"fundingTime\":1587888000000,\"fundingRate\":\"0.00007493\"},{\"symbol\":\"BTCUSDT\",\"fundingTime\":1587916800000,\"fundingRate\":\"0.00010000\"},{\"symbol\":\"BTCUSDT\",\"fundingTime\":1587945600000,\"fundingRate\":\"0.00010000\"},{\"symbol\":\"BTCUSDT\",\"fundingTime\":1587974400005,\"fundingRate\":\"0.00010000\"},{\"symbol\":\"BTCUSDT\",\"fundingTime\":1588003200000,\"fundingRate\":\"0.00010000\"},{\"symbol\":\"BTCUSDT\",\"fundingTime\":1588032000000,\"fundingRate\":\"0.00010000\"},{\"symbol\":\"BTCUSDT\",\"fundingTime\":1588060800000,\"fundingRate\":\"0.00010000\"},{\"symbol\":\"BTCUSDT\",\"fundingTime\":1588089600000,\"fundingRate\":\"0.00010000\"},{\"symbol\":\"BTCUSDT\",\"fundingTime\":1588118400000,\"fundingRate\":\"0.00010000\"},{\"symbol\":\"BTCUSDT\",\"fundingTime\":1588147200001,\"fundingRate\":\"0.00010000\"},{\"symbol\":\"BTCUSDT\",\"fundingTime\":1588176000000,\"fundingRate\":\"0.00010000\"},{\"symbol\":\"BTCUSDT\",\"fundingTime\":1588204800000,\"fundingRate\":\"0.00013208\"},{\"symbol\":\"BTCUSDT\",\"fundingTime\":1588233600000,\"fundingRate\":\"0.00097517\"},{\"symbol\":\"BTCUSDT\",\"fundingTime\":1588262400000,\"fundingRate\":\"0.00010000\"},{\"symbol\":\"BTCUSDT\",\"fundingTime\":1588291200000,\"fundingRate\":\"0.00021072\"},{\"symbol\":\"BTCUSDT\",\"fundingTime\":1588320000000,\"fundingRate\":\"0.00017885\"},{\"symbol\":\"BTCUSDT\",\"fundingTime\":1588348800000,\"fundingRate\":\"0.00013528\"},{\"symbol\":\"BTCUSDT\",\"fundingTime\":1588377600000,\"fundingRate\":\"0.00010000\"},{\"symbol\":\"BTCUSDT\",\"fundingTime\":1588406400000,\"fundingRate\":\"0.00010000\"},{\"symbol\":\"BTCUSDT\",\"fundingTime\":1588435200000,\"fundingRate\":\"0.00010144\"},{\"symbol\":\"BTCUSDT\",\"fundingTime\":1588464000000,\"fundingRate\":\"0.00010000\"},{\"symbol\":\"BTCUSDT\",\"fundingTime\":1588492800000,\"fundingRate\":\"0.00019810\"},{\"symbol\":\"BTCUSDT\",\"fundingTime\":1588521600000,\"fundingRate\":\"0.00015162\"},{\"symbol\":\"BTCUSDT\",\"fundingTime\":1588550400000,\"fundingRate\":\"0.00011925\"},{\"symbol\":\"BTCUSDT\",\"fundingTime\":1588579200005,\"fundingRate\":\"0.00010000\"},{\"symbol\":\"BTCUSDT\",\"fundingTime\":1588608000000,\"fundingRate\":\"0.00010000\"},{\"symbol\":\"BTCUSDT\",\"fundingTime\":1588636800000,\"fundingRate\":\"0.00010000\"},{\"symbol\":\"BTCUSDT\",\"fundingTime\":1588665600000,\"fundingRate\":\"0.00010000\"},{\"symbol\":\"BTCUSDT\",\"fundingTime\":1588694400000,\"fundingRate\":\"0.00010000\"},{\"symbol\":\"BTCUSDT\",\"fundingTime\":1588723200001,\"fundingRate\":\"0.00010000\"},{\"symbol\":\"BTCUSDT\",\"fundingTime\":1588752000000,\"fundingRate\":\"0.00010000\"},{\"symbol\":\"BTCUSDT\",\"fundingTime\":1588780800000,\"fundingRate\":\"0.00035981\"},{\"symbol\":\"BTCUSDT\",\"fundingTime\":1588809600000,\"fundingRate\":\"0.00010000\"},{\"symbol\":\"BTCUSDT\",\"fundingTime\":1588838400011,\"fundingRate\":\"0.00010000\"},{\"symbol\":\"BTCUSDT\",\"fundingTime\":1588867200000,\"fundingRate\":\"0.00010000\"},{\"symbol\":\"BTCUSDT\",\"fundingTime\":1588896000000,\"fundingRate\":\"0.00016094\"},{\"symbol\":\"BTCUSDT\",\"fundingTime\":1588924800001,\"fundingRate\":\"0.00034016\"},{\"symbol\":\"BTCUSDT\",\"fundingTime\":1588953600000,\"fundingRate\":\"0.00053190\"},{\"symbol\":\"BTCUSDT\",\"fundingTime\":1588982400000,\"fundingRate\":\"0.00042037\"},{\"symbol\":\"BTCUSDT\",\"fundingTime\":1589011200000,\"fundingRate\":\"0.00075816\"},{\"symbol\":\"BTCUSDT\",\"fundingTime\":1589040000000,\"fundingRate\":\"0.00058018\"},{\"symbol\":\"BTCUSDT\",\"fundingTime\":1589068800000,\"fundingRate\":\"0.00042326\"},{\"symbol\":\"BTCUSDT\",\"fundingTime\":1589097600000,\"fundingRate\":\"0.00010000\"},{\"symbol\":\"BTCUSDT\",\"fundingTime\":1589126400000,\"fundingRate\":\"0.00010000\"},{\"symbol\":\"BTCUSDT\",\"fundingTime\":1589155200000,\"fundingRate\":\"0.00010000\"},{\"symbol\":\"BTCUSDT\",\"fundingTime\":1589184000000,\"fundingRate\":\"0.00010000\"},{\"symbol\":\"BTCUSDT\",\"fundingTime\":1589212800000,\"fundingRate\":\"0.00010000\"},{\"symbol\":\"BTCUSDT\",\"fundingTime\":1589241600000,\"fundingRate\":\"0.00010000\"},{\"symbol\":\"BTCUSDT\",\"fundingTime\":1589270400001,\"fundingRate\":\"0.00010000\"},{\"symbol\":\"BTCUSDT\",\"fundingTime\":1589299200000,\"fundingRate\":\"0.00010000\"},{\"symbol\":\"BTCUSDT\",\"fundingTime\":1589328000000,\"fundingRate\":\"0.00010000\"},{\"symbol\":\"BTCUSDT\",\"fundingTime\":1589356800000,\"fundingRate\":\"0.00010000\"},{\"symbol\":\"BTCUSDT\",\"fundingTime\":1589385600000,\"fundingRate\":\"0.00010000\"},{\"symbol\":\"BTCUSDT\",\"fundingTime\":1589414400000,\"fundingRate\":\"0.00010000\"},{\"symbol\":\"BTCUSDT\",\"fundingTime\":1589443200000,\"fundingRate\":\"0.00010000\"},{\"symbol\":\"BTCUSDT\",\"fundingTime\":1589472000000,\"fundingRate\":\"0.00010000\"},{\"symbol\":\"BTCUSDT\",\"fundingTime\":1589500800000,\"fundingRate\":\"0.00010000\"},{\"symbol\":\"BTCUSDT\",\"fundingTime\":1589529600000,\"fundingRate\":\"0.00004400\"},{\"symbol\":\"BTCUSDT\",\"fundingTime\":1589558400001,\"fundingRate\":\"0.00010000\"},{\"symbol\":\"BTCUSDT\",\"fundingTime\":1589587200008,\"fundingRate\":\"0.00010000\"},{\"symbol\":\"BTCUSDT\",\"fundingTime\":1589616000000,\"fundingRate\":\"0.00010000\"},{\"symbol\":\"BTCUSDT\",\"fundingTime\":1589644800000,\"fundingRate\":\"0.00010000\"},{\"symbol\":\"BTCUSDT\",\"fundingTime\":1589673600002,\"fundingRate\":\"0.00008001\"},{\"symbol\":\"BTCUSDT\",\"fundingTime\":1589702400000,\"fundingRate\":\"0.00004125\"},{\"symbol\":\"BTCUSDT\",\"fundingTime\":1589731200000,\"fundingRate\":\"0.00000888\"},{\"symbol\":\"BTCUSDT\",\"fundingTime\":1589760000000,\"fundingRate\":\"0.00010000\"},{\"symbol\":\"BTCUSDT\",\"fundingTime\":1589788800000,\"fundingRate\":\"0.00010000\"},{\"symbol\":\"BTCUSDT\",\"fundingTime\":1589817600001,\"fundingRate\":\"-0.00006640\"},{\"symbol\":\"BTCUSDT\",\"fundingTime\":1589846400005,\"fundingRate\":\"0.00010000\"}]\n"
          ],
          "name": "stdout"
        }
      ]
    },
    {
      "cell_type": "code",
      "metadata": {
        "id": "scQUQzkPthfc",
        "colab_type": "code",
        "colab": {}
      },
      "source": [
        "for act in ac:\n",
        "  totres=[]\n",
        "  i=0\n",
        "  start = request_client.get_candlestick_data(act,startTime=1560969980000+(i*60000000),limit=1000,interval=CandlestickInterval.MIN1)[0].openTime\n",
        "  while True:\n",
        "      result = request_client.get_candlestick_data(act,startTime=start+(i*60000000),limit=1000,interval=CandlestickInterval.MIN1)\n",
        "      totres.extend(result)\n",
        "      clear_output()\n",
        "      i+=1\n",
        "      if(len(result)<1000):\n",
        "          break\n",
        "      result=totres\n",
        "      l=[0]*10\n",
        "      data=[l]*len(result)\n",
        "      for res in range(len(result)):\n",
        "        l=[0]*10\n",
        "        l[0]=result[res].openTime\n",
        "        l[1]=float(result[res].open) \n",
        "        l[2]=float(result[res].high )\n",
        "        l[3]=float(result[res].low )\n",
        "        l[4]=float(result[res].close)\n",
        "        l[5]=float(result[res].volume)\n",
        "        l[6]=float(result[res].quoteAssetVolume)\n",
        "        l[7]=result[res].numTrades\n",
        "        l[8]=float(result[res].takerBuyBaseAssetVolume)\n",
        "        l[9]=float(result[res].takerBuyQuoteAssetVolume)\n",
        "        data[res]=l\n",
        "  data=pd.DataFrame(data,columns=[\"_id\",\"open\",\"high\",\"low\",\"close\",\"volume\",\"quoteAssetVolume\",\"numTrades\",\"takerBuyBaseAssetVolume\",\"takerBuyQuoteAssetVolume\"])\n",
        "  globals()[act]=data"
      ],
      "execution_count": 0,
      "outputs": []
    },
    {
      "cell_type": "code",
      "metadata": {
        "id": "IvKMFl4GthaU",
        "colab_type": "code",
        "colab": {}
      },
      "source": [
        ""
      ],
      "execution_count": 0,
      "outputs": []
    },
    {
      "cell_type": "code",
      "metadata": {
        "id": "_X0KpKBmthT2",
        "colab_type": "code",
        "colab": {}
      },
      "source": [
        ""
      ],
      "execution_count": 0,
      "outputs": []
    },
    {
      "cell_type": "code",
      "metadata": {
        "id": "j_mpMBMm1agt",
        "colab_type": "code",
        "colab": {}
      },
      "source": [
        ""
      ],
      "execution_count": 0,
      "outputs": []
    },
    {
      "cell_type": "code",
      "metadata": {
        "id": "Nn5TS79M-252",
        "colab_type": "code",
        "colab": {}
      },
      "source": [
        ""
      ],
      "execution_count": 0,
      "outputs": []
    },
    {
      "cell_type": "code",
      "metadata": {
        "id": "BV4z1k_Kw54M",
        "colab_type": "code",
        "colab": {}
      },
      "source": [
        "result = request_client.get_symbol_price_ticker()\n",
        "ac=[\"\"]*len(result)\n",
        "for i in range(len(result)):\n",
        "    ac[i]=result[i].symbol\n",
        "clear_output()\n",
        "for act in ac:\n",
        "  totres=[]\n",
        "  i=0\n",
        "  start = request_client.get_funding_rate(act,startTime=1560969980000+(i*60000000),limit=1000)[0].fundingTime\n",
        "  while True:\n",
        "      result = request_client.get_funding_rate(act,startTime=start,limit=1000)\n",
        "      start=int(result[len(result)-1].fundingTime/1000)*1000+28800000\n",
        "      totres.extend(result)\n",
        "      clear_output()\n",
        "      i+=1\n",
        "      if(len(result)<1000):\n",
        "          break\n",
        "  result=totres\n",
        "  l=[0]*2\n",
        "  data=[l]*len(result)\n",
        "  for res in range(len(result)):\n",
        "    l=[0]*2\n",
        "    l[0]=int(result[res].fundingTime/1000)*1000\n",
        "    l[1]=float(result[res].fundingRate)*100 \n",
        "    data[res]=l\n",
        "  data=pd.DataFrame(data,columns=[\"_id\",\"fundingRate\"])\n",
        "  data=data.drop_duplicates()\n",
        "  globals()[act]=data"
      ],
      "execution_count": 0,
      "outputs": []
    },
    {
      "cell_type": "code",
      "metadata": {
        "id": "m3Sjn52rAq9L",
        "colab_type": "code",
        "outputId": "c3065eef-3be4-4f5f-ef54-3074e1241759",
        "colab": {
          "base_uri": "https://localhost:8080/",
          "height": 419
        }
      },
      "source": [
        ""
      ],
      "execution_count": 0,
      "outputs": [
        {
          "output_type": "execute_result",
          "data": {
            "text/html": [
              "<div>\n",
              "<style scoped>\n",
              "    .dataframe tbody tr th:only-of-type {\n",
              "        vertical-align: middle;\n",
              "    }\n",
              "\n",
              "    .dataframe tbody tr th {\n",
              "        vertical-align: top;\n",
              "    }\n",
              "\n",
              "    .dataframe thead th {\n",
              "        text-align: right;\n",
              "    }\n",
              "</style>\n",
              "<table border=\"1\" class=\"dataframe\">\n",
              "  <thead>\n",
              "    <tr style=\"text-align: right;\">\n",
              "      <th></th>\n",
              "      <th>_id</th>\n",
              "      <th>fundingRate</th>\n",
              "    </tr>\n",
              "  </thead>\n",
              "  <tbody>\n",
              "    <tr>\n",
              "      <th>0</th>\n",
              "      <td>1582272000000</td>\n",
              "      <td>0.000100</td>\n",
              "    </tr>\n",
              "    <tr>\n",
              "      <th>1</th>\n",
              "      <td>1582300800000</td>\n",
              "      <td>0.000100</td>\n",
              "    </tr>\n",
              "    <tr>\n",
              "      <th>2</th>\n",
              "      <td>1582329600000</td>\n",
              "      <td>0.000100</td>\n",
              "    </tr>\n",
              "    <tr>\n",
              "      <th>3</th>\n",
              "      <td>1582358400000</td>\n",
              "      <td>0.000100</td>\n",
              "    </tr>\n",
              "    <tr>\n",
              "      <th>4</th>\n",
              "      <td>1582387200000</td>\n",
              "      <td>0.000100</td>\n",
              "    </tr>\n",
              "    <tr>\n",
              "      <th>...</th>\n",
              "      <td>...</td>\n",
              "      <td>...</td>\n",
              "    </tr>\n",
              "    <tr>\n",
              "      <th>260</th>\n",
              "      <td>1589760000000</td>\n",
              "      <td>-0.001191</td>\n",
              "    </tr>\n",
              "    <tr>\n",
              "      <th>261</th>\n",
              "      <td>1589788800000</td>\n",
              "      <td>-0.000003</td>\n",
              "    </tr>\n",
              "    <tr>\n",
              "      <th>262</th>\n",
              "      <td>1589817600000</td>\n",
              "      <td>0.000100</td>\n",
              "    </tr>\n",
              "    <tr>\n",
              "      <th>263</th>\n",
              "      <td>1589846400000</td>\n",
              "      <td>0.000100</td>\n",
              "    </tr>\n",
              "    <tr>\n",
              "      <th>264</th>\n",
              "      <td>1589875200000</td>\n",
              "      <td>0.000100</td>\n",
              "    </tr>\n",
              "  </tbody>\n",
              "</table>\n",
              "<p>265 rows × 2 columns</p>\n",
              "</div>"
            ],
            "text/plain": [
              "               _id  fundingRate\n",
              "0    1582272000000     0.000100\n",
              "1    1582300800000     0.000100\n",
              "2    1582329600000     0.000100\n",
              "3    1582358400000     0.000100\n",
              "4    1582387200000     0.000100\n",
              "..             ...          ...\n",
              "260  1589760000000    -0.001191\n",
              "261  1589788800000    -0.000003\n",
              "262  1589817600000     0.000100\n",
              "263  1589846400000     0.000100\n",
              "264  1589875200000     0.000100\n",
              "\n",
              "[265 rows x 2 columns]"
            ]
          },
          "metadata": {
            "tags": []
          },
          "execution_count": 6
        }
      ]
    },
    {
      "cell_type": "code",
      "metadata": {
        "id": "jq5TGAoGAoA4",
        "colab_type": "code",
        "outputId": "22e2a9d3-1968-4559-fcc0-c7c0253cba6b",
        "colab": {
          "base_uri": "https://localhost:8080/",
          "height": 221
        }
      },
      "source": [
        "(data.fundingRate*100)"
      ],
      "execution_count": 0,
      "outputs": [
        {
          "output_type": "execute_result",
          "data": {
            "text/plain": [
              "0      0.010000\n",
              "1      0.010000\n",
              "2      0.010000\n",
              "3      0.010000\n",
              "4      0.010000\n",
              "         ...   \n",
              "260   -0.119086\n",
              "261   -0.000275\n",
              "262    0.010000\n",
              "263    0.010000\n",
              "264    0.010000\n",
              "Name: fundingRate, Length: 265, dtype: float64"
            ]
          },
          "metadata": {
            "tags": []
          },
          "execution_count": 9
        }
      ]
    },
    {
      "cell_type": "code",
      "metadata": {
        "id": "V53e030CHZWW",
        "colab_type": "code",
        "colab": {}
      },
      "source": [
        ""
      ],
      "execution_count": 0,
      "outputs": []
    },
    {
      "cell_type": "code",
      "metadata": {
        "id": "wAiqx4HAHZdH",
        "colab_type": "code",
        "outputId": "f5ddec9d-ef5d-4a35-dbfe-0d66bddf3f93",
        "colab": {
          "base_uri": "https://localhost:8080/",
          "height": 34
        }
      },
      "source": [
        "res = request_client.get_symbol_price_ticker(\"BTCUSDT\")[0].price"
      ],
      "execution_count": 0,
      "outputs": [
        {
          "output_type": "stream",
          "text": [
            "{\"symbol\":\"BTCUSDT\",\"price\":\"9719.99\",\"time\":1589901295762}\n"
          ],
          "name": "stdout"
        }
      ]
    },
    {
      "cell_type": "code",
      "metadata": {
        "id": "1j2yCj-RHZnt",
        "colab_type": "code",
        "outputId": "e014f7ad-2779-4340-b65e-5493d061639f",
        "colab": {
          "base_uri": "https://localhost:8080/",
          "height": 34
        }
      },
      "source": [
        "result = request_client.get_open_interest(symbol=\"BTCUSDT\").openInterest"
      ],
      "execution_count": 0,
      "outputs": [
        {
          "output_type": "stream",
          "text": [
            "{\"symbol\":\"BTCUSDT\",\"openInterest\":\"32839.521\",\"time\":1589900861580}\n"
          ],
          "name": "stdout"
        }
      ]
    },
    {
      "cell_type": "code",
      "metadata": {
        "id": "ggQoATFKHZbM",
        "colab_type": "code",
        "outputId": "2fddb796-e2e7-47d5-bb91-70e0a75fa20a",
        "colab": {
          "base_uri": "https://localhost:8080/",
          "height": 34
        }
      },
      "source": [
        "result*res"
      ],
      "execution_count": 0,
      "outputs": [
        {
          "output_type": "execute_result",
          "data": {
            "text/plain": [
              "319199815.72479"
            ]
          },
          "metadata": {
            "tags": []
          },
          "execution_count": 22
        }
      ]
    },
    {
      "cell_type": "code",
      "metadata": {
        "id": "cWNW-RJuHZT9",
        "colab_type": "code",
        "outputId": "58597c52-be60-49bc-a5de-711265b6b6b3",
        "colab": {
          "base_uri": "https://localhost:8080/",
          "height": 34
        }
      },
      "source": [
        "res"
      ],
      "execution_count": 0,
      "outputs": [
        {
          "output_type": "execute_result",
          "data": {
            "text/plain": [
              "<binance_f.model.symbolprice.SymbolPrice at 0x7f1a051b7160>"
            ]
          },
          "metadata": {
            "tags": []
          },
          "execution_count": 17
        }
      ]
    }
  ]
}